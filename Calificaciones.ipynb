{
  "nbformat": 4,
  "nbformat_minor": 0,
  "metadata": {
    "colab": {
      "provenance": [],
      "authorship_tag": "ABX9TyOW39oUMkXzNAHqs2uJrfQa",
      "include_colab_link": true
    },
    "kernelspec": {
      "name": "python3",
      "display_name": "Python 3"
    },
    "language_info": {
      "name": "python"
    }
  },
  "cells": [
    {
      "cell_type": "markdown",
      "metadata": {
        "id": "view-in-github",
        "colab_type": "text"
      },
      "source": [
        "<a href=\"https://colab.research.google.com/github/jenaroolmos/curso/blob/main/Calificaciones.ipynb\" target=\"_parent\"><img src=\"https://colab.research.google.com/assets/colab-badge.svg\" alt=\"Open In Colab\"/></a>"
      ]
    },
    {
      "cell_type": "code",
      "execution_count": null,
      "metadata": {
        "id": "ZvDIcZq3eOiI"
      },
      "outputs": [],
      "source": [
        " from tkinter import Tk, Label, Entry\n",
        "calificaciones = {'Saul' : 8.3 , 'Greta' : 9.5 ,\n",
        "                  'Alex' : 7.8, 'Oscar' : 6.9, 'José' : 9.2,'Maria':10,'Marcela':8.0}\n",
        "\n",
        "ventana = Tk()\n",
        "ventana.title('Calificación')\n",
        "ventana.eval('tk::PlaceWindow . center')\n",
        "ventana.resizable(0,0)\n",
        "\n",
        "\n",
        "texto = Label(ventana,  font=('Helvetica 15 bold'), text = '¿Cuál es tu nombre?')\n",
        "entrada = Entry(ventana, font=('Helvetica 15 bold'),background='#ffa533', width=40)\n",
        "score = Label(ventana,font=('Helvetica 15 bold'),text='')\n",
        "\n",
        "\n",
        "\n",
        "texto.pack(side = 'left', padx=(20,5), pady=10)\n",
        "entrada.pack(side='left', padx=(2,20), pady=10)\n",
        "score.pack(side='bottom', padx= (0,10),pady=(100,5))\n",
        "\n",
        "\n",
        "def mi_entrada(event):\n",
        "    nombre = entrada.get()\n",
        "    resultado = calificaciones[nombre]\n",
        "    score.configure(text = 'Tu calificación es: '+ str(resultado))\n",
        "\n",
        "\n",
        "entrada.bind('<Return>', mi_entrada)\n",
        "\n",
        "ventana.mainloop()"
      ]
    },
    {
      "cell_type": "code",
      "source": [],
      "metadata": {
        "id": "qae1GBjFzXi1"
      },
      "execution_count": null,
      "outputs": []
    },
    {
      "cell_type": "code",
      "source": [],
      "metadata": {
        "id": "l1yZ4kDgzX3K"
      },
      "execution_count": null,
      "outputs": []
    }
  ]
}