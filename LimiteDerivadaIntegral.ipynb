{
  "nbformat": 4,
  "nbformat_minor": 0,
  "metadata": {
    "colab": {
      "provenance": [],
      "authorship_tag": "ABX9TyOQGCOCn+K7m4gEmFeHZXe5",
      "include_colab_link": true
    },
    "kernelspec": {
      "name": "python3",
      "display_name": "Python 3"
    },
    "language_info": {
      "name": "python"
    }
  },
  "cells": [
    {
      "cell_type": "markdown",
      "metadata": {
        "id": "view-in-github",
        "colab_type": "text"
      },
      "source": [
        "<a href=\"https://colab.research.google.com/github/jenaroolmos/curso/blob/main/LimiteDerivadaIntegral.ipynb\" target=\"_parent\"><img src=\"https://colab.research.google.com/assets/colab-badge.svg\" alt=\"Open In Colab\"/></a>"
      ]
    },
    {
      "cell_type": "code",
      "execution_count": null,
      "metadata": {
        "colab": {
          "base_uri": "https://localhost:8080/"
        },
        "id": "CHSqZI5vdNZM",
        "outputId": "cd6c703d-3135-4d1b-d479-0a52c9f91a54"
      },
      "outputs": [
        {
          "output_type": "stream",
          "name": "stdout",
          "text": [
            "El límite es:  sin(4)/4\n",
            "El límite evaluado es:  -0.189200623826982\n"
          ]
        }
      ],
      "source": [
        "from sympy import symbols, limit, sin\n",
        "x  = symbols('x')\n",
        "limf = limit(sin(x)/x, x, 4)\n",
        "print(\"El límite es: \", limf)\n",
        "###\n",
        "print(\"El límite evaluado es: \", limf.evalf())"
      ]
    },
    {
      "cell_type": "code",
      "source": [
        "from sympy import symbols, limit, sqrt\n",
        "x  = symbols('x')\n",
        "fx = sqrt(x - 1)\n",
        "limf = limit(fx, x, 1, '+')\n",
        "print(\"El límite es: \", limf)"
      ],
      "metadata": {
        "colab": {
          "base_uri": "https://localhost:8080/"
        },
        "id": "zKldC1-8daDu",
        "outputId": "825463ef-27df-4499-ca97-3840079fed36"
      },
      "execution_count": null,
      "outputs": [
        {
          "output_type": "stream",
          "name": "stdout",
          "text": [
            "El límite es:  0\n"
          ]
        }
      ]
    },
    {
      "cell_type": "markdown",
      "source": [
        "Actividad:\n",
        "Problema Interprepas Matemáticas VI área 2\n",
        "\n",
        "Encuenre el límite de\n",
        "limx→2x2−4x+7−−−−√−32x+2−−−−√"
      ],
      "metadata": {
        "id": "HE9HasPpdkHd"
      }
    },
    {
      "cell_type": "code",
      "source": [
        "from sympy import symbols,limit,sqrt\n",
        "x=symbols('x')\n",
        "vx=(x**2-4)/(sqrt(x-7)-3/2*sqrt(x+2))\n",
        "limitvx=limit(vx,x,2)\n",
        "print(\"El límite es: \",limitvx)"
      ],
      "metadata": {
        "colab": {
          "base_uri": "https://localhost:8080/"
        },
        "id": "iwnyVnNtdswl",
        "outputId": "0b0246bd-d0a2-4856-c6df-ffafc2a1b518"
      },
      "execution_count": null,
      "outputs": [
        {
          "output_type": "stream",
          "name": "stdout",
          "text": [
            "El límite es:  0\n"
          ]
        }
      ]
    },
    {
      "cell_type": "code",
      "source": [
        "from sympy import symbols, diff, sin, exp, ln\n",
        "\n",
        "x  = symbols('x')\n",
        "fx = ln(4**(7*x**2)/(5*exp(3*x**5)))\n",
        "dx = diff(fx, x)\n",
        "print(\"La derivada es: \\n {0}  \\n= {1} \".format(dx, dx.simplify()))\n",
        "#Evaluando en el puntos críticos\n",
        "#print(\n",
        "puntoEvaluacion = 0\n",
        "dxEval = dx.subs(x, puntoEvaluacion).evalf()\n",
        "print(\"La derivada evaluada en x = {0} es: {1}\".format(puntoEvaluacion, dxEval))\n",
        "puntoEvaluacion = 1.08967\n",
        "dxEval = dx.subs(x, puntoEvaluacion).evalf()\n",
        "print(\"La derivada evaluada en x = {0} es: {1}\".format(puntoEvaluacion, dxEval))"
      ],
      "metadata": {
        "colab": {
          "base_uri": "https://localhost:8080/"
        },
        "id": "SPpjVRcxfetq",
        "outputId": "98986011-858e-4b20-de84-3697cc78f0d9"
      },
      "execution_count": null,
      "outputs": [
        {
          "output_type": "stream",
          "name": "stdout",
          "text": [
            "La derivada es: \n",
            " 5*(-3*4**(7*x**2)*x**4*exp(-3*x**5) + 14*4**(7*x**2)*x*exp(-3*x**5)*log(4)/5)*exp(3*x**5)/4**(7*x**2)  \n",
            "= -15*x**4 + 28*x*log(2) \n",
            "La derivada evaluada en x = 0 es: 0\n",
            "La derivada evaluada en x = 1.08967 es: 0.000353052723166182\n"
          ]
        }
      ]
    },
    {
      "cell_type": "code",
      "source": [
        "from IPython.display import display, Latex\n",
        "from sympy import symbols, diff, sin, exp, ln, latex, Derivative, init_printing\n",
        "init_printing(use_latex='mathjax')\n",
        "\n",
        "x  = symbols('x')\n",
        "derv_x = Derivative(ln(4**(7*x**2)/(5*exp(3*x**5))), x)\n",
        "\n",
        "print(\"La derivada es: \\n\")\n",
        "result = \"$${} ={} = {}$$\".format(latex(derv_x),latex(derv_x.doit()),\n",
        "                                  latex(derv_x.doit().simplify()))\n",
        "derv_x.doit().subs(x, 0)\n",
        "display(Latex(result))\n",
        "#Evaluando en  puntos particulares\n",
        "puntoEvaluacion = 0\n",
        "dxEval = derv_x.doit().subs(x, puntoEvaluacion).evalf()\n",
        "print(\"La derivada evaluada en x = {0} es: {1}\".format(puntoEvaluacion, dxEval))\n",
        "puntoEvaluacion = 1.08967\n",
        "dxEval = derv_x.doit().subs(x, puntoEvaluacion).evalf()\n",
        "print(\"La derivada evaluada en x = {0} es: {1}\".format(puntoEvaluacion, dxEval))"
      ],
      "metadata": {
        "colab": {
          "base_uri": "https://localhost:8080/",
          "height": 127
        },
        "id": "REpuVeRxgcD7",
        "outputId": "a9b26d47-c422-4766-d215-e43e76f01963"
      },
      "execution_count": null,
      "outputs": [
        {
          "output_type": "stream",
          "name": "stdout",
          "text": [
            "La derivada es: \n",
            "\n"
          ]
        },
        {
          "output_type": "display_data",
          "data": {
            "text/plain": [
              "<IPython.core.display.Latex object>"
            ],
            "text/latex": "$$\\frac{d}{d x} \\log{\\left(\\frac{4^{7 x^{2}} e^{- 3 x^{5}}}{5} \\right)} =5 \\cdot 4^{- 7 x^{2}} \\left(- 3 \\cdot 4^{7 x^{2}} x^{4} e^{- 3 x^{5}} + \\frac{14 \\cdot 4^{7 x^{2}} x e^{- 3 x^{5}} \\log{\\left(4 \\right)}}{5}\\right) e^{3 x^{5}} = - 15 x^{4} + 28 x \\log{\\left(2 \\right)}$$"
          },
          "metadata": {}
        },
        {
          "output_type": "stream",
          "name": "stdout",
          "text": [
            "La derivada evaluada en x = 0 es: 0\n",
            "La derivada evaluada en x = 1.08967 es: 0.000353052723166182\n"
          ]
        }
      ]
    },
    {
      "cell_type": "code",
      "source": [
        "from IPython.display import display, Latex\n",
        "from sympy import symbols, diff, exp, ln,tan,latex,sin,sqrt,Derivative,init_printing\n",
        "init_printing(use_latex='mathjax')\n",
        "\n",
        "x  = symbols('x')\n",
        "derv_x = Derivative(tan((exp(2*sin(x))/(4*x)))**sqrt(x),x)\n",
        "print(\"La derivada es: \\n\")\n",
        "result = \"$${} ={} = {}$$\".format(latex(derv_x),latex(derv_x.doit()),\n",
        "                                  latex(derv_x.doit().simplify()))\n",
        "derv_x.doit().subs(x, 0)\n",
        "display(Latex(result))\n",
        "\n"
      ],
      "metadata": {
        "colab": {
          "base_uri": "https://localhost:8080/",
          "height": 172
        },
        "id": "eLTmitYtg7MT",
        "outputId": "fafa4422-3688-4a5c-da4e-0aca5102b963"
      },
      "execution_count": null,
      "outputs": [
        {
          "output_type": "stream",
          "name": "stdout",
          "text": [
            "La derivada es: \n",
            "\n"
          ]
        },
        {
          "output_type": "display_data",
          "data": {
            "text/plain": [
              "<IPython.core.display.Latex object>"
            ],
            "text/latex": "$$\\frac{d}{d x} \\tan^{\\sqrt{x}}{\\left(\\frac{e^{2 \\sin{\\left(x \\right)}}}{4 x} \\right)} =\\left(\\frac{\\sqrt{x} \\left(\\frac{e^{2 \\sin{\\left(x \\right)}} \\cos{\\left(x \\right)}}{2 x} - \\frac{e^{2 \\sin{\\left(x \\right)}}}{4 x^{2}}\\right) \\left(\\tan^{2}{\\left(\\frac{e^{2 \\sin{\\left(x \\right)}}}{4 x} \\right)} + 1\\right)}{\\tan{\\left(\\frac{e^{2 \\sin{\\left(x \\right)}}}{4 x} \\right)}} + \\frac{\\log{\\left(\\tan{\\left(\\frac{e^{2 \\sin{\\left(x \\right)}}}{4 x} \\right)} \\right)}}{2 \\sqrt{x}}\\right) \\tan^{\\sqrt{x}}{\\left(\\frac{e^{2 \\sin{\\left(x \\right)}}}{4 x} \\right)} = \\frac{\\left(2 x \\log{\\left(\\tan{\\left(\\frac{e^{2 \\sin{\\left(x \\right)}}}{4 x} \\right)} \\right)} \\tan{\\left(\\frac{e^{2 \\sin{\\left(x \\right)}}}{4 x} \\right)} + \\frac{\\left(2 x \\cos{\\left(x \\right)} - 1\\right) e^{2 \\sin{\\left(x \\right)}}}{\\cos^{2}{\\left(\\frac{e^{2 \\sin{\\left(x \\right)}}}{4 x} \\right)}}\\right) \\tan^{\\sqrt{x} - 1}{\\left(\\frac{e^{2 \\sin{\\left(x \\right)}}}{4 x} \\right)}}{4 x^{\\frac{3}{2}}}$$"
          },
          "metadata": {}
        }
      ]
    },
    {
      "cell_type": "code",
      "source": [
        "from sympy import symbols, Integral, sin\n",
        "\n",
        "x  = symbols('x')\n",
        "intsen =Integral(sin(x), (x,-1,1))\n",
        "print(\"El resultado es: \", intsen.evalf())"
      ],
      "metadata": {
        "colab": {
          "base_uri": "https://localhost:8080/"
        },
        "id": "cWjl53pr17Lm",
        "outputId": "bc6e4496-5ab4-4d6f-c5a9-b6e214f27e94"
      },
      "execution_count": null,
      "outputs": [
        {
          "output_type": "stream",
          "name": "stdout",
          "text": [
            "El resultado es:  0.e-100\n"
          ]
        }
      ]
    },
    {
      "cell_type": "code",
      "source": [
        "from sympy import symbols, integrate, exp, oo\n",
        "\n",
        "x  = symbols('x')\n",
        "print(integrate(exp(-x), (x, 0, oo)))"
      ],
      "metadata": {
        "colab": {
          "base_uri": "https://localhost:8080/"
        },
        "id": "Gba81yZ12FGs",
        "outputId": "d1be10f7-9c96-4951-e19a-8aac23569cae"
      },
      "execution_count": null,
      "outputs": [
        {
          "output_type": "stream",
          "name": "stdout",
          "text": [
            "1\n"
          ]
        }
      ]
    },
    {
      "cell_type": "code",
      "source": [
        "from sympy import symbols, integrate,sqrt\n",
        "x  = symbols('x')\n",
        "integralg=integrate(sqrt(1+x**3),(x,-1,1))\n",
        "print('El resultado es:',integralg.evalf())"
      ],
      "metadata": {
        "colab": {
          "base_uri": "https://localhost:8080/"
        },
        "id": "jA2dKzGj2Mie",
        "outputId": "4572eb10-8332-4814-d692-c056abff5e6d"
      },
      "execution_count": null,
      "outputs": [
        {
          "output_type": "stream",
          "name": "stdout",
          "text": [
            "El resultado es: 1.95275723372785\n"
          ]
        }
      ]
    }
  ]
}