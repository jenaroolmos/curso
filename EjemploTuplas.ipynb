{
  "nbformat": 4,
  "nbformat_minor": 0,
  "metadata": {
    "colab": {
      "provenance": [],
      "authorship_tag": "ABX9TyN26hF1GD/3eE9Mdsog0EOl",
      "include_colab_link": true
    },
    "kernelspec": {
      "name": "python3",
      "display_name": "Python 3"
    },
    "language_info": {
      "name": "python"
    }
  },
  "cells": [
    {
      "cell_type": "markdown",
      "metadata": {
        "id": "view-in-github",
        "colab_type": "text"
      },
      "source": [
        "<a href=\"https://colab.research.google.com/github/jenaroolmos/curso/blob/main/EjemploTuplas.ipynb\" target=\"_parent\"><img src=\"https://colab.research.google.com/assets/colab-badge.svg\" alt=\"Open In Colab\"/></a>"
      ]
    },
    {
      "cell_type": "code",
      "execution_count": 8,
      "metadata": {
        "colab": {
          "base_uri": "https://localhost:8080/"
        },
        "id": "DmgWM4g0Q6sr",
        "outputId": "63f50984-dd98-4ee9-e049-109930503003"
      },
      "outputs": [
        {
          "output_type": "stream",
          "name": "stdout",
          "text": [
            "El valor del radio de una esfera = 2\n",
            "El volumen de la esfera es:  33.510321638291124\n",
            "El área de la esfera es:  50.26548245743669\n",
            "El perímetro del ecuador es: 12.566370614359172\n"
          ]
        }
      ],
      "source": [
        "from math import pi\n",
        "r=float(input('El valor del radio de una esfera = '))\n",
        "def Esfera(r):\n",
        "  v=pi*4.0/3.0*r**3\n",
        "  f=4*pi*r**2\n",
        "  e=2*pi*r\n",
        "  return [v,f,e]\n",
        "k=Esfera(r)\n",
        "print('El volumen de la esfera es: ',k[0])\n",
        "print('El área de la esfera es: ',k[1])\n",
        "print('El perímetro del ecuador es:',k[2])\n",
        "\n"
      ]
    }
  ]
}