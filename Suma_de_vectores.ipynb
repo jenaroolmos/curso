{
  "nbformat": 4,
  "nbformat_minor": 0,
  "metadata": {
    "colab": {
      "provenance": [],
      "authorship_tag": "ABX9TyMAdtpjxlu1lIZxWpl0/2HG",
      "include_colab_link": true
    },
    "kernelspec": {
      "name": "python3",
      "display_name": "Python 3"
    },
    "language_info": {
      "name": "python"
    }
  },
  "cells": [
    {
      "cell_type": "markdown",
      "metadata": {
        "id": "view-in-github",
        "colab_type": "text"
      },
      "source": [
        "<a href=\"https://colab.research.google.com/github/jenaroolmos/curso/blob/main/Suma_de_vectores.ipynb\" target=\"_parent\"><img src=\"https://colab.research.google.com/assets/colab-badge.svg\" alt=\"Open In Colab\"/></a>"
      ]
    },
    {
      "cell_type": "code",
      "source": [
        "def sumaComplejos(z1,z2):\n",
        "    return (z1[0]+z2[0],z1[1]+z2[1])\n",
        "\n",
        "def multComplejos(z1,z2):\n",
        "    return (z1[0]*z2[0]-z1[1]*z2[1],z1[0]*z2[1]+z1[1]*z2[0])"
      ],
      "metadata": {
        "id": "DSsPP2O0VcqS"
      },
      "execution_count": null,
      "outputs": []
    },
    {
      "cell_type": "code",
      "source": [
        "z1=(2,1)\n",
        "z2=(3,4)\n",
        "suma=sumaComplejos(z1,z2)\n",
        "print(suma)"
      ],
      "metadata": {
        "id": "_FeJWzwCZPN6",
        "colab": {
          "base_uri": "https://localhost:8080/"
        },
        "outputId": "1248ce15-ddcd-4def-99ba-2ad4f8c501d8"
      },
      "execution_count": null,
      "outputs": [
        {
          "output_type": "stream",
          "name": "stdout",
          "text": [
            "(5, 5)\n"
          ]
        }
      ]
    },
    {
      "cell_type": "code",
      "execution_count": null,
      "metadata": {
        "id": "na98gx6zU5OE"
      },
      "outputs": [],
      "source": [
        "\n"
      ]
    },
    {
      "cell_type": "code",
      "source": [
        "suma=sumaComplejos(z1,z2)\n",
        "print(suma)"
      ],
      "metadata": {
        "id": "-l9CZQDPdEh2",
        "colab": {
          "base_uri": "https://localhost:8080/"
        },
        "outputId": "8cd2fa22-c084-49dd-808e-ff1b36d4b3da"
      },
      "execution_count": null,
      "outputs": [
        {
          "output_type": "stream",
          "name": "stdout",
          "text": [
            "(4, 6)\n"
          ]
        }
      ]
    },
    {
      "cell_type": "code",
      "source": [],
      "metadata": {
        "id": "G21OL4yPj4n7"
      },
      "execution_count": null,
      "outputs": []
    },
    {
      "cell_type": "code",
      "source": [],
      "metadata": {
        "id": "gSc66GHOg8vu"
      },
      "execution_count": null,
      "outputs": []
    },
    {
      "cell_type": "code",
      "source": [
        "import matplotlib.pyplot as plt\n",
        "\n",
        "def sumaVectores(z1,z2):\n",
        "    return (z1[0]+z2[0],z1[1]+z2[1])\n",
        "def sumaVectoresb(z2,z1):\n",
        "    return (z2[0]+z1[0],z2[1]+z2[1])\n",
        "\n",
        "\n",
        "z1 = (2,1)\n",
        "z2 = (3,4)\n",
        "suma = sumaComplejos(z1,z2)\n",
        "sumab=sumaComplejos(z2,z1)\n",
        "\n",
        "# Grafica la suma\n",
        "plt.quiver(0, 0, z1[0], z1[1], color='g', units='xy',scale=1)\n",
        "plt.quiver(z1[0], z1[1], z2[0], z2[1], color='b',\n",
        "           units='xy', scale=1)\n",
        "plt.quiver(0, 0, suma[0], suma[1], color='r',\n",
        "           units='xy',scale=1)\n",
        "plt.axis('scaled')\n",
        "plt.quiver(0, 0, z2[0], z2[1], color='g', units='xy',scale=1)\n",
        "plt.quiver(z2[0], z2[1], z1[0], z1[1], color='b',\n",
        "           units='xy', scale=1)\n",
        "plt.quiver(0, 0, sumab[0], sumab[1], color='r',\n",
        "           units='xy',scale=1)\n",
        "plt.quiver(0,0,suma[1],suma[0])\n",
        "plt.quiver(0,0,sumab[1],sumab[0])\n",
        "plt.axis('scaled')\n",
        "plt.xlim(0, 6)\n",
        "plt.ylim(0, 6)\n",
        "plt.show()"
      ],
      "metadata": {
        "id": "_c_olbmDg6zX",
        "colab": {
          "base_uri": "https://localhost:8080/",
          "height": 435
        },
        "outputId": "a3ae6224-141a-4667-da87-a3deafa4d068"
      },
      "execution_count": null,
      "outputs": [
        {
          "output_type": "display_data",
          "data": {
            "text/plain": [
              "<Figure size 640x480 with 1 Axes>"
            ],
            "image/png": "[encoded data removed]"
          },
          "metadata": {}
        }
      ]
    }
  ]
}