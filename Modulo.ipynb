{
  "nbformat": 4,
  "nbformat_minor": 0,
  "metadata": {
    "colab": {
      "provenance": [],
      "authorship_tag": "ABX9TyPn7xyUZIl5to2QN9TjDqEQ",
      "include_colab_link": true
    },
    "kernelspec": {
      "name": "python3",
      "display_name": "Python 3"
    },
    "language_info": {
      "name": "python"
    }
  },
  "cells": [
    {
      "cell_type": "markdown",
      "metadata": {
        "id": "view-in-github",
        "colab_type": "text"
      },
      "source": [
        "<a href=\"https://colab.research.google.com/github/jenaroolmos/curso/blob/main/Modulo.ipynb\" target=\"_parent\"><img src=\"https://colab.research.google.com/assets/colab-badge.svg\" alt=\"Open In Colab\"/></a>"
      ]
    },
    {
      "cell_type": "code",
      "execution_count": 2,
      "metadata": {
        "colab": {
          "base_uri": "https://localhost:8080/"
        },
        "id": "7IXbbfspfqDv",
        "outputId": "1cd26a01-c578-4c90-f449-a21bc06573b8"
      },
      "outputs": [
        {
          "output_type": "stream",
          "name": "stdout",
          "text": [
            "Clase [0] = [-99, -96, -93, -90, -87, -84, -81, -78, -75, -72, -69, -66, -63, -60, -57, -54, -51, -48, -45, -42, -39, -36, -33, -30, -27, -24, -21, -18, -15, -12, -9, -6, -3, 0, 3, 6, 9, 12, 15, 18, 21, 24, 27, 30, 33, 36, 39, 42, 45, 48, 51, 54, 57, 60, 63, 66, 69, 72, 75, 78, 81, 84, 87, 90, 93, 96, 99]\n",
            "Clase [1] = [-86, -71, -56, -41, -26, -11, 11, 26, 41, 56, 71, 86]\n",
            "Clase [2] = [-98, -95, -92, -89, -83, -80, -77, -74, -68, -65, -62, -59, -53, -50, -47, -44, -38, -35, -32, -29, -23, -20, -17, -14, -8, -5, -2, 2, 5, 8, 14, 17, 20, 23, 29, 32, 35, 38, 44, 47, 50, 53, 59, 62, 65, 68, 74, 77, 80, 83, 89, 92, 95, 98]\n",
            "Clase[3]= [-97, -96, -94, -91, -90, -88, -85, -84, -82, -79, -78, -76, -73, -72, -70, -67, -66, -64, -61, -60, -58, -55, -54, -52, -49, -48, -46, -43, -42, -40, -37, -36, -34, -31, -30, -28, -25, -24, -22, -19, -18, -16, -13, -12, -10, -7, -6, -4, -1, 0, 1, 4, 6, 7, 10, 12, 13, 16, 18, 19, 22, 24, 25, 28, 30, 31, 34, 36, 37, 40, 42, 43, 46, 48, 49, 52, 54, 55, 58, 60, 61, 64, 66, 67, 70, 72, 73, 76, 78, 79, 82, 84, 85, 88, 90, 91, 94, 96, 97]\n",
            "Clase[4]= [-99, -93, -87, -81, -75, -69, -63, -57, -51, -45, -39, -33, -27, -21, -15, -9, -3, 3, 9, 15, 21, 27, 33, 39, 45, 51, 57, 63, 69, 75, 81, 87, 93, 99]\n",
            "La intersección de los tres conjuntos es:  set()\n",
            "La unión de los cuatro conjuntos es:  [-99, -98, -97, -96, -95, -94, -93, -92, -91, -90, -89, -88, -87, -86, -85, -84, -83, -82, -81, -80, -79, -78, -77, -76, -75, -74, -73, -72, -71, -70, -69, -68, -67, -66, -65, -64, -63, -62, -61, -60, -59, -58, -57, -56, -55, -54, -53, -52, -51, -50, -49, -48, -47, -46, -45, -44, -43, -42, -41, -40, -39, -38, -37, -36, -35, -34, -33, -32, -31, -30, -29, -28, -27, -26, -25, -24, -23, -22, -21, -20, -19, -18, -17, -16, -15, -14, -13, -12, -11, -10, -9, -8, -7, -6, -5, -4, -3, -2, -1, 0, 1, 2, 3, 4, 5, 6, 7, 8, 9, 10, 11, 12, 13, 14, 15, 16, 17, 18, 19, 20, 21, 22, 23, 24, 25, 26, 27, 28, 29, 30, 31, 32, 33, 34, 35, 36, 37, 38, 39, 40, 41, 42, 43, 44, 45, 46, 47, 48, 49, 50, 51, 52, 53, 54, 55, 56, 57, 58, 59, 60, 61, 62, 63, 64, 65, 66, 67, 68, 69, 70, 71, 72, 73, 74, 75, 76, 77, 78, 79, 80, 81, 82, 83, 84, 85, 86, 87, 88, 89, 90, 91, 92, 93, 94, 95, 96, 97, 98, 99]\n"
          ]
        }
      ],
      "source": [
        "ClaseEquiv0 = set()\n",
        "ClaseEquiv1 = set()\n",
        "ClaseEquiv2 = set()\n",
        "ClaseEquiv3 = set()\n",
        "ClaseEquiv4 = set()\n",
        "\n",
        "for i in range(100):\n",
        "    if i % 3 == 0:\n",
        "        ClaseEquiv0.add(i)\n",
        "        ClaseEquiv0.add(-i)\n",
        "        if i % 2 ==0:\n",
        "            ClaseEquiv3.add(i)\n",
        "            ClaseEquiv3.add(-i)\n",
        "        elif i % 2==1:\n",
        "            ClaseEquiv4.add(i)\n",
        "            ClaseEquiv4.add(-i)\n",
        "    elif i % 3 == 1:\n",
        "        ClaseEquiv3.add(i)\n",
        "        ClaseEquiv3.add(-i)\n",
        "    elif i % 5 == 1:\n",
        "        ClaseEquiv1.add(i)\n",
        "        ClaseEquiv1.add(-i)\n",
        "\n",
        "    else:\n",
        "        ClaseEquiv2.add(i)\n",
        "        ClaseEquiv2.add(-i)\n",
        "\n",
        "\n",
        "print(\"Clase [0] =\", sorted(ClaseEquiv0))\n",
        "print(\"Clase [1] =\", sorted(ClaseEquiv1))\n",
        "print(\"Clase [2] =\", sorted(ClaseEquiv2))\n",
        "print('Clase[3]=',sorted(ClaseEquiv3))\n",
        "print('Clase[4]=',sorted(ClaseEquiv4))\n",
        "\n",
        "print(\"La intersección de los tres conjuntos es: \",\n",
        "      ClaseEquiv0 & ClaseEquiv1 & ClaseEquiv2 & ClaseEquiv3 & ClaseEquiv4)\n",
        "\n",
        "print(\"La unión de los cuatro conjuntos es: \",\n",
        "      sorted(ClaseEquiv0 | ClaseEquiv1 | ClaseEquiv2 | ClaseEquiv3 | ClaseEquiv4))\n"
      ]
    }
  ]
}