{
  "nbformat": 4,
  "nbformat_minor": 0,
  "metadata": {
    "colab": {
      "provenance": [],
      "authorship_tag": "ABX9TyNmlIkefg4fudppUlVxiIe6",
      "include_colab_link": true
    },
    "kernelspec": {
      "name": "python3",
      "display_name": "Python 3"
    },
    "language_info": {
      "name": "python"
    }
  },
  "cells": [
    {
      "cell_type": "markdown",
      "metadata": {
        "id": "view-in-github",
        "colab_type": "text"
      },
      "source": [
        "<a href=\"https://colab.research.google.com/github/jenaroolmos/curso/blob/main/Tuplas.ipynb\" target=\"_parent\"><img src=\"https://colab.research.google.com/assets/colab-badge.svg\" alt=\"Open In Colab\"/></a>"
      ]
    },
    {
      "cell_type": "code",
      "execution_count": 1,
      "metadata": {
        "colab": {
          "base_uri": "https://localhost:8080/"
        },
        "id": "bEF2BF5d1tV2",
        "outputId": "9ed75f1c-4e62-47ea-b930-bf06c8bc1d7f"
      },
      "outputs": [
        {
          "output_type": "stream",
          "name": "stdout",
          "text": [
            "[0, 2, 4, 6, 8, 10, 12, 14, 16, 18, 20, 22, 24, 26, 28, 30, 32, 34, 36, 38, 40, 42, 44, 46, 48, 50, 52, 54, 56, 58, 60, 62, 64, 66, 68, 70, 72, 74, 76, 78, 80, 82, 84, 86, 88, 90, 92, 94, 96, 98]\n"
          ]
        }
      ],
      "source": [
        "a = []\n",
        "for x in range(100):\n",
        "  if x%2 == 0:\n",
        "    a.append(x)\n",
        "print(a)"
      ]
    },
    {
      "cell_type": "markdown",
      "source": [
        "Actividad\n",
        "Index\n",
        "count\n",
        "remove"
      ],
      "metadata": {
        "id": "COcnMvCI16x_"
      }
    },
    {
      "cell_type": "code",
      "source": [
        "lista_numeros = [1, 2, 3, 4, 5, 6, 7, 8, 9, 10]\n",
        "elemento = 5\n",
        "lista_numeros.index(elemento)"
      ],
      "metadata": {
        "colab": {
          "base_uri": "https://localhost:8080/"
        },
        "id": "m6DIcp382DNk",
        "outputId": "880f13a4-231d-44c7-9191-6fb99591ee11"
      },
      "execution_count": 6,
      "outputs": [
        {
          "output_type": "execute_result",
          "data": {
            "text/plain": [
              "4"
            ]
          },
          "metadata": {},
          "execution_count": 6
        }
      ]
    },
    {
      "cell_type": "markdown",
      "source": [
        "index() devuelve el índice más bajo de la lista en el que aparece el elemento"
      ],
      "metadata": {
        "id": "gzULCv7229LZ"
      }
    },
    {
      "cell_type": "code",
      "source": [
        "count envía el numero de elementos en una lista."
      ],
      "metadata": {
        "id": "QPaBw2je3Cx-"
      },
      "execution_count": null,
      "outputs": []
    },
    {
      "cell_type": "code",
      "source": [
        "lista = [1, 2, 3, 4, 5, 6, 7, 8, 9, 10,]\n",
        "\n",
        "elementos=lista.count(5)\n",
        "print(elementos)"
      ],
      "metadata": {
        "colab": {
          "base_uri": "https://localhost:8080/"
        },
        "id": "Nhw5EC0a4VFZ",
        "outputId": "e22800ab-b4bf-444a-c265-d95bf41cbdc7"
      },
      "execution_count": 14,
      "outputs": [
        {
          "output_type": "stream",
          "name": "stdout",
          "text": [
            "1\n"
          ]
        }
      ]
    },
    {
      "cell_type": "markdown",
      "source": [
        "El número de elementos repetidos en la lista"
      ],
      "metadata": {
        "id": "Nr4TM0aV6KZc"
      }
    },
    {
      "cell_type": "code",
      "source": [
        "lista = [1, 2, 3, 4, 5, 6, 7, 8, 9, 10]\n",
        "numeros=lista.remove(5)\n",
        "print(lista)"
      ],
      "metadata": {
        "colab": {
          "base_uri": "https://localhost:8080/"
        },
        "id": "dgCk-zLz6ZoI",
        "outputId": "ab112831-7cd5-41e7-bc71-7bbb8291b454"
      },
      "execution_count": 15,
      "outputs": [
        {
          "output_type": "stream",
          "name": "stdout",
          "text": [
            "[1, 2, 3, 4, 6, 7, 8, 9, 10]\n"
          ]
        }
      ]
    },
    {
      "cell_type": "markdown",
      "source": [
        " remove() suprime unicamente el elementos correspondiente."
      ],
      "metadata": {
        "id": "jYB2YxxP7uNK"
      }
    }
  ]
}