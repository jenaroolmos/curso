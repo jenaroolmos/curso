{
  "nbformat": 4,
  "nbformat_minor": 0,
  "metadata": {
    "colab": {
      "provenance": [],
      "authorship_tag": "ABX9TyPf5ZKRDPyBfaPY4SVzUna7",
      "include_colab_link": true
    },
    "kernelspec": {
      "name": "python3",
      "display_name": "Python 3"
    },
    "language_info": {
      "name": "python"
    }
  },
  "cells": [
    {
      "cell_type": "markdown",
      "metadata": {
        "id": "view-in-github",
        "colab_type": "text"
      },
      "source": [
        "<a href=\"https://colab.research.google.com/github/jenaroolmos/curso/blob/main/Tuplas.ipynb\" target=\"_parent\"><img src=\"https://colab.research.google.com/assets/colab-badge.svg\" alt=\"Open In Colab\"/></a>"
      ]
    },
    {
      "cell_type": "code",
      "execution_count": 1,
      "metadata": {
        "colab": {
          "base_uri": "https://localhost:8080/"
        },
        "id": "bEF2BF5d1tV2",
        "outputId": "9ed75f1c-4e62-47ea-b930-bf06c8bc1d7f"
      },
      "outputs": [
        {
          "output_type": "stream",
          "name": "stdout",
          "text": [
            "[0, 2, 4, 6, 8, 10, 12, 14, 16, 18, 20, 22, 24, 26, 28, 30, 32, 34, 36, 38, 40, 42, 44, 46, 48, 50, 52, 54, 56, 58, 60, 62, 64, 66, 68, 70, 72, 74, 76, 78, 80, 82, 84, 86, 88, 90, 92, 94, 96, 98]\n"
          ]
        }
      ],
      "source": [
        "a = []\n",
        "for x in range(100):\n",
        "  if x%2 == 0:\n",
        "    a.append(x)\n",
        "print(a)"
      ]
    },
    {
      "cell_type": "markdown",
      "source": [
        "Actividad\n",
        "Index\n",
        "count\n",
        "remove"
      ],
      "metadata": {
        "id": "COcnMvCI16x_"
      }
    },
    {
      "cell_type": "code",
      "source": [
        "lista_numeros = [1, 2, 3, 4, 5, 6, 7, 8, 9, 10]\n",
        "elemento = 5\n",
        "lista_numeros.index(elemento)"
      ],
      "metadata": {
        "colab": {
          "base_uri": "https://localhost:8080/"
        },
        "id": "m6DIcp382DNk",
        "outputId": "880f13a4-231d-44c7-9191-6fb99591ee11"
      },
      "execution_count": 6,
      "outputs": [
        {
          "output_type": "execute_result",
          "data": {
            "text/plain": [
              "4"
            ]
          },
          "metadata": {},
          "execution_count": 6
        }
      ]
    },
    {
      "cell_type": "markdown",
      "source": [
        "index() devuelve el índice más bajo de la lista en el que aparece el elemento"
      ],
      "metadata": {
        "id": "gzULCv7229LZ"
      }
    },
    {
      "cell_type": "code",
      "source": [
        "count envía el numero de elementos en una lista."
      ],
      "metadata": {
        "id": "QPaBw2je3Cx-"
      },
      "execution_count": null,
      "outputs": []
    },
    {
      "cell_type": "code",
      "source": [
        "lista = [1, 2, 3, 4, 5, 6, 7, 8, 9, 10,5,11,13,5,7]\n",
        "\n",
        "elementos=lista.count(5)\n",
        "print(elementos)"
      ],
      "metadata": {
        "colab": {
          "base_uri": "https://localhost:8080/"
        },
        "id": "Nhw5EC0a4VFZ",
        "outputId": "a518f8ed-615d-42c5-b9d6-3a8c3e794647"
      },
      "execution_count": 9,
      "outputs": [
        {
          "output_type": "stream",
          "name": "stdout",
          "text": [
            "3\n"
          ]
        }
      ]
    },
    {
      "cell_type": "markdown",
      "source": [
        "El número de elementos repetidos en la lista"
      ],
      "metadata": {
        "id": "Nr4TM0aV6KZc"
      }
    },
    {
      "cell_type": "code",
      "source": [
        "lista = [1, 2, 3, 4, 5, 6, 7, 8, 9, 10,5,11,13,5,7]\n",
        "numeros=lista.remove(5)\n",
        "print(lista)"
      ],
      "metadata": {
        "colab": {
          "base_uri": "https://localhost:8080/"
        },
        "id": "dgCk-zLz6ZoI",
        "outputId": "279930d8-4365-498f-f666-c5251b9e9100"
      },
      "execution_count": 13,
      "outputs": [
        {
          "output_type": "stream",
          "name": "stdout",
          "text": [
            "[1, 2, 3, 4, 6, 7, 8, 9, 10, 5, 11, 13, 5, 7]\n"
          ]
        }
      ]
    },
    {
      "cell_type": "markdown",
      "source": [
        " remove() suprime unicamente el elementos correspondiente."
      ],
      "metadata": {
        "id": "jYB2YxxP7uNK"
      }
    }
  ]
}